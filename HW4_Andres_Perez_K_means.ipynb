{
  "nbformat": 4,
  "nbformat_minor": 0,
  "metadata": {
    "colab": {
      "provenance": [],
      "include_colab_link": true
    },
    "kernelspec": {
      "name": "python3",
      "display_name": "Python 3"
    },
    "language_info": {
      "name": "python"
    }
  },
  "cells": [
    {
      "cell_type": "markdown",
      "metadata": {
        "id": "view-in-github",
        "colab_type": "text"
      },
      "source": [
        "<a href=\"https://colab.research.google.com/github/Titas23/IS-170-Machine-Learning/blob/K-Means-Clustering/HW4_Andres_Perez_K_means.ipynb\" target=\"_parent\"><img src=\"https://colab.research.google.com/assets/colab-badge.svg\" alt=\"Open In Colab\"/></a>"
      ]
    },
    {
      "cell_type": "code",
      "execution_count": null,
      "metadata": {
        "id": "9ru5HePnU2uR"
      },
      "outputs": [],
      "source": [
        "# call the required libraries\n",
        "import numpy as np\n",
        "import pandas as pd\n",
        "import matplotlib.pyplot as plt\n",
        "from sklearn.cluster import KMeans"
      ]
    },
    {
      "cell_type": "code",
      "source": [
        "# I pulled a dataset from Spotify and its a list of values for songs. \n",
        "df=pd.read_csv(\"data.csv\")\n",
        "df.head(100)\n"
      ],
      "metadata": {
        "colab": {
          "base_uri": "https://localhost:8080/",
          "height": 488
        },
        "id": "hTOZ4fbFVuq-",
        "outputId": "4c72cd83-1602-4edd-9709-d69c1132ec1d"
      },
      "execution_count": null,
      "outputs": [
        {
          "output_type": "execute_result",
          "data": {
            "text/plain": [
              "    danceability  energy  key  loudness  mode  speechiness  acousticness  \\\n",
              "0          0.803  0.6240    7    -6.764     0       0.0477        0.4510   \n",
              "1          0.762  0.7030   10    -7.951     0       0.3060        0.2060   \n",
              "2          0.261  0.0149    1   -27.528     1       0.0419        0.9920   \n",
              "3          0.722  0.7360    3    -6.994     0       0.0585        0.4310   \n",
              "4          0.787  0.5720    1    -7.516     1       0.2220        0.1450   \n",
              "..           ...     ...  ...       ...   ...          ...           ...   \n",
              "95         0.783  0.8360    0    -9.223     0       0.0486        0.3960   \n",
              "96         0.830  0.6120   10    -7.446     0       0.0790        0.1120   \n",
              "97         0.832  0.5530    7   -13.705     1       0.0487        0.0422   \n",
              "98         0.764  0.8120    7    -4.946     1       0.1790        0.2020   \n",
              "99         0.901  0.9390    6    -2.762     1       0.2740        0.1170   \n",
              "\n",
              "    instrumentalness  liveness  valence    tempo  duration_ms  time_signature  \\\n",
              "0           0.000734    0.1000   0.6280   95.968       304524               4   \n",
              "1           0.000000    0.0912   0.5190  151.329       247178               4   \n",
              "2           0.897000    0.1020   0.0382   75.296       286987               4   \n",
              "3           0.000001    0.1230   0.5820   89.860       208920               4   \n",
              "4           0.000000    0.0753   0.6470  155.117       179413               4   \n",
              "..               ...       ...      ...      ...          ...             ...   \n",
              "95          0.023600    0.1350   0.8310  108.966       222667               4   \n",
              "96          0.000000    0.0892   0.2520   97.989       243956               4   \n",
              "97          0.003560    0.2490   0.8900  119.825       215693               4   \n",
              "98          0.000000    0.1260   0.7420  139.961       194973               4   \n",
              "99          0.000000    0.0643   0.8050  142.948       356347               4   \n",
              "\n",
              "    liked  \n",
              "0       0  \n",
              "1       1  \n",
              "2       0  \n",
              "3       1  \n",
              "4       1  \n",
              "..    ...  \n",
              "95      0  \n",
              "96      1  \n",
              "97      0  \n",
              "98      1  \n",
              "99      1  \n",
              "\n",
              "[100 rows x 14 columns]"
            ],
            "text/html": [
              "\n",
              "  <div id=\"df-178e23b0-3c59-4d54-8b1f-27eefa9ef694\">\n",
              "    <div class=\"colab-df-container\">\n",
              "      <div>\n",
              "<style scoped>\n",
              "    .dataframe tbody tr th:only-of-type {\n",
              "        vertical-align: middle;\n",
              "    }\n",
              "\n",
              "    .dataframe tbody tr th {\n",
              "        vertical-align: top;\n",
              "    }\n",
              "\n",
              "    .dataframe thead th {\n",
              "        text-align: right;\n",
              "    }\n",
              "</style>\n",
              "<table border=\"1\" class=\"dataframe\">\n",
              "  <thead>\n",
              "    <tr style=\"text-align: right;\">\n",
              "      <th></th>\n",
              "      <th>danceability</th>\n",
              "      <th>energy</th>\n",
              "      <th>key</th>\n",
              "      <th>loudness</th>\n",
              "      <th>mode</th>\n",
              "      <th>speechiness</th>\n",
              "      <th>acousticness</th>\n",
              "      <th>instrumentalness</th>\n",
              "      <th>liveness</th>\n",
              "      <th>valence</th>\n",
              "      <th>tempo</th>\n",
              "      <th>duration_ms</th>\n",
              "      <th>time_signature</th>\n",
              "      <th>liked</th>\n",
              "    </tr>\n",
              "  </thead>\n",
              "  <tbody>\n",
              "    <tr>\n",
              "      <th>0</th>\n",
              "      <td>0.803</td>\n",
              "      <td>0.6240</td>\n",
              "      <td>7</td>\n",
              "      <td>-6.764</td>\n",
              "      <td>0</td>\n",
              "      <td>0.0477</td>\n",
              "      <td>0.4510</td>\n",
              "      <td>0.000734</td>\n",
              "      <td>0.1000</td>\n",
              "      <td>0.6280</td>\n",
              "      <td>95.968</td>\n",
              "      <td>304524</td>\n",
              "      <td>4</td>\n",
              "      <td>0</td>\n",
              "    </tr>\n",
              "    <tr>\n",
              "      <th>1</th>\n",
              "      <td>0.762</td>\n",
              "      <td>0.7030</td>\n",
              "      <td>10</td>\n",
              "      <td>-7.951</td>\n",
              "      <td>0</td>\n",
              "      <td>0.3060</td>\n",
              "      <td>0.2060</td>\n",
              "      <td>0.000000</td>\n",
              "      <td>0.0912</td>\n",
              "      <td>0.5190</td>\n",
              "      <td>151.329</td>\n",
              "      <td>247178</td>\n",
              "      <td>4</td>\n",
              "      <td>1</td>\n",
              "    </tr>\n",
              "    <tr>\n",
              "      <th>2</th>\n",
              "      <td>0.261</td>\n",
              "      <td>0.0149</td>\n",
              "      <td>1</td>\n",
              "      <td>-27.528</td>\n",
              "      <td>1</td>\n",
              "      <td>0.0419</td>\n",
              "      <td>0.9920</td>\n",
              "      <td>0.897000</td>\n",
              "      <td>0.1020</td>\n",
              "      <td>0.0382</td>\n",
              "      <td>75.296</td>\n",
              "      <td>286987</td>\n",
              "      <td>4</td>\n",
              "      <td>0</td>\n",
              "    </tr>\n",
              "    <tr>\n",
              "      <th>3</th>\n",
              "      <td>0.722</td>\n",
              "      <td>0.7360</td>\n",
              "      <td>3</td>\n",
              "      <td>-6.994</td>\n",
              "      <td>0</td>\n",
              "      <td>0.0585</td>\n",
              "      <td>0.4310</td>\n",
              "      <td>0.000001</td>\n",
              "      <td>0.1230</td>\n",
              "      <td>0.5820</td>\n",
              "      <td>89.860</td>\n",
              "      <td>208920</td>\n",
              "      <td>4</td>\n",
              "      <td>1</td>\n",
              "    </tr>\n",
              "    <tr>\n",
              "      <th>4</th>\n",
              "      <td>0.787</td>\n",
              "      <td>0.5720</td>\n",
              "      <td>1</td>\n",
              "      <td>-7.516</td>\n",
              "      <td>1</td>\n",
              "      <td>0.2220</td>\n",
              "      <td>0.1450</td>\n",
              "      <td>0.000000</td>\n",
              "      <td>0.0753</td>\n",
              "      <td>0.6470</td>\n",
              "      <td>155.117</td>\n",
              "      <td>179413</td>\n",
              "      <td>4</td>\n",
              "      <td>1</td>\n",
              "    </tr>\n",
              "    <tr>\n",
              "      <th>...</th>\n",
              "      <td>...</td>\n",
              "      <td>...</td>\n",
              "      <td>...</td>\n",
              "      <td>...</td>\n",
              "      <td>...</td>\n",
              "      <td>...</td>\n",
              "      <td>...</td>\n",
              "      <td>...</td>\n",
              "      <td>...</td>\n",
              "      <td>...</td>\n",
              "      <td>...</td>\n",
              "      <td>...</td>\n",
              "      <td>...</td>\n",
              "      <td>...</td>\n",
              "    </tr>\n",
              "    <tr>\n",
              "      <th>95</th>\n",
              "      <td>0.783</td>\n",
              "      <td>0.8360</td>\n",
              "      <td>0</td>\n",
              "      <td>-9.223</td>\n",
              "      <td>0</td>\n",
              "      <td>0.0486</td>\n",
              "      <td>0.3960</td>\n",
              "      <td>0.023600</td>\n",
              "      <td>0.1350</td>\n",
              "      <td>0.8310</td>\n",
              "      <td>108.966</td>\n",
              "      <td>222667</td>\n",
              "      <td>4</td>\n",
              "      <td>0</td>\n",
              "    </tr>\n",
              "    <tr>\n",
              "      <th>96</th>\n",
              "      <td>0.830</td>\n",
              "      <td>0.6120</td>\n",
              "      <td>10</td>\n",
              "      <td>-7.446</td>\n",
              "      <td>0</td>\n",
              "      <td>0.0790</td>\n",
              "      <td>0.1120</td>\n",
              "      <td>0.000000</td>\n",
              "      <td>0.0892</td>\n",
              "      <td>0.2520</td>\n",
              "      <td>97.989</td>\n",
              "      <td>243956</td>\n",
              "      <td>4</td>\n",
              "      <td>1</td>\n",
              "    </tr>\n",
              "    <tr>\n",
              "      <th>97</th>\n",
              "      <td>0.832</td>\n",
              "      <td>0.5530</td>\n",
              "      <td>7</td>\n",
              "      <td>-13.705</td>\n",
              "      <td>1</td>\n",
              "      <td>0.0487</td>\n",
              "      <td>0.0422</td>\n",
              "      <td>0.003560</td>\n",
              "      <td>0.2490</td>\n",
              "      <td>0.8900</td>\n",
              "      <td>119.825</td>\n",
              "      <td>215693</td>\n",
              "      <td>4</td>\n",
              "      <td>0</td>\n",
              "    </tr>\n",
              "    <tr>\n",
              "      <th>98</th>\n",
              "      <td>0.764</td>\n",
              "      <td>0.8120</td>\n",
              "      <td>7</td>\n",
              "      <td>-4.946</td>\n",
              "      <td>1</td>\n",
              "      <td>0.1790</td>\n",
              "      <td>0.2020</td>\n",
              "      <td>0.000000</td>\n",
              "      <td>0.1260</td>\n",
              "      <td>0.7420</td>\n",
              "      <td>139.961</td>\n",
              "      <td>194973</td>\n",
              "      <td>4</td>\n",
              "      <td>1</td>\n",
              "    </tr>\n",
              "    <tr>\n",
              "      <th>99</th>\n",
              "      <td>0.901</td>\n",
              "      <td>0.9390</td>\n",
              "      <td>6</td>\n",
              "      <td>-2.762</td>\n",
              "      <td>1</td>\n",
              "      <td>0.2740</td>\n",
              "      <td>0.1170</td>\n",
              "      <td>0.000000</td>\n",
              "      <td>0.0643</td>\n",
              "      <td>0.8050</td>\n",
              "      <td>142.948</td>\n",
              "      <td>356347</td>\n",
              "      <td>4</td>\n",
              "      <td>1</td>\n",
              "    </tr>\n",
              "  </tbody>\n",
              "</table>\n",
              "<p>100 rows × 14 columns</p>\n",
              "</div>\n",
              "      <button class=\"colab-df-convert\" onclick=\"convertToInteractive('df-178e23b0-3c59-4d54-8b1f-27eefa9ef694')\"\n",
              "              title=\"Convert this dataframe to an interactive table.\"\n",
              "              style=\"display:none;\">\n",
              "        \n",
              "  <svg xmlns=\"http://www.w3.org/2000/svg\" height=\"24px\"viewBox=\"0 0 24 24\"\n",
              "       width=\"24px\">\n",
              "    <path d=\"M0 0h24v24H0V0z\" fill=\"none\"/>\n",
              "    <path d=\"M18.56 5.44l.94 2.06.94-2.06 2.06-.94-2.06-.94-.94-2.06-.94 2.06-2.06.94zm-11 1L8.5 8.5l.94-2.06 2.06-.94-2.06-.94L8.5 2.5l-.94 2.06-2.06.94zm10 10l.94 2.06.94-2.06 2.06-.94-2.06-.94-.94-2.06-.94 2.06-2.06.94z\"/><path d=\"M17.41 7.96l-1.37-1.37c-.4-.4-.92-.59-1.43-.59-.52 0-1.04.2-1.43.59L10.3 9.45l-7.72 7.72c-.78.78-.78 2.05 0 2.83L4 21.41c.39.39.9.59 1.41.59.51 0 1.02-.2 1.41-.59l7.78-7.78 2.81-2.81c.8-.78.8-2.07 0-2.86zM5.41 20L4 18.59l7.72-7.72 1.47 1.35L5.41 20z\"/>\n",
              "  </svg>\n",
              "      </button>\n",
              "      \n",
              "  <style>\n",
              "    .colab-df-container {\n",
              "      display:flex;\n",
              "      flex-wrap:wrap;\n",
              "      gap: 12px;\n",
              "    }\n",
              "\n",
              "    .colab-df-convert {\n",
              "      background-color: #E8F0FE;\n",
              "      border: none;\n",
              "      border-radius: 50%;\n",
              "      cursor: pointer;\n",
              "      display: none;\n",
              "      fill: #1967D2;\n",
              "      height: 32px;\n",
              "      padding: 0 0 0 0;\n",
              "      width: 32px;\n",
              "    }\n",
              "\n",
              "    .colab-df-convert:hover {\n",
              "      background-color: #E2EBFA;\n",
              "      box-shadow: 0px 1px 2px rgba(60, 64, 67, 0.3), 0px 1px 3px 1px rgba(60, 64, 67, 0.15);\n",
              "      fill: #174EA6;\n",
              "    }\n",
              "\n",
              "    [theme=dark] .colab-df-convert {\n",
              "      background-color: #3B4455;\n",
              "      fill: #D2E3FC;\n",
              "    }\n",
              "\n",
              "    [theme=dark] .colab-df-convert:hover {\n",
              "      background-color: #434B5C;\n",
              "      box-shadow: 0px 1px 3px 1px rgba(0, 0, 0, 0.15);\n",
              "      filter: drop-shadow(0px 1px 2px rgba(0, 0, 0, 0.3));\n",
              "      fill: #FFFFFF;\n",
              "    }\n",
              "  </style>\n",
              "\n",
              "      <script>\n",
              "        const buttonEl =\n",
              "          document.querySelector('#df-178e23b0-3c59-4d54-8b1f-27eefa9ef694 button.colab-df-convert');\n",
              "        buttonEl.style.display =\n",
              "          google.colab.kernel.accessAllowed ? 'block' : 'none';\n",
              "\n",
              "        async function convertToInteractive(key) {\n",
              "          const element = document.querySelector('#df-178e23b0-3c59-4d54-8b1f-27eefa9ef694');\n",
              "          const dataTable =\n",
              "            await google.colab.kernel.invokeFunction('convertToInteractive',\n",
              "                                                     [key], {});\n",
              "          if (!dataTable) return;\n",
              "\n",
              "          const docLinkHtml = 'Like what you see? Visit the ' +\n",
              "            '<a target=\"_blank\" href=https://colab.research.google.com/notebooks/data_table.ipynb>data table notebook</a>'\n",
              "            + ' to learn more about interactive tables.';\n",
              "          element.innerHTML = '';\n",
              "          dataTable['output_type'] = 'display_data';\n",
              "          await google.colab.output.renderOutput(dataTable, element);\n",
              "          const docLink = document.createElement('div');\n",
              "          docLink.innerHTML = docLinkHtml;\n",
              "          element.appendChild(docLink);\n",
              "        }\n",
              "      </script>\n",
              "    </div>\n",
              "  </div>\n",
              "  "
            ]
          },
          "metadata": {},
          "execution_count": 3
        }
      ]
    },
    {
      "cell_type": "code",
      "source": [
        "df.info()"
      ],
      "metadata": {
        "colab": {
          "base_uri": "https://localhost:8080/"
        },
        "id": "f5w3MDdnWCYw",
        "outputId": "98e8da96-ef24-4984-a452-a21fd020c64d"
      },
      "execution_count": null,
      "outputs": [
        {
          "output_type": "stream",
          "name": "stdout",
          "text": [
            "<class 'pandas.core.frame.DataFrame'>\n",
            "RangeIndex: 195 entries, 0 to 194\n",
            "Data columns (total 14 columns):\n",
            " #   Column            Non-Null Count  Dtype  \n",
            "---  ------            --------------  -----  \n",
            " 0   danceability      195 non-null    float64\n",
            " 1   energy            195 non-null    float64\n",
            " 2   key               195 non-null    int64  \n",
            " 3   loudness          195 non-null    float64\n",
            " 4   mode              195 non-null    int64  \n",
            " 5   speechiness       195 non-null    float64\n",
            " 6   acousticness      195 non-null    float64\n",
            " 7   instrumentalness  195 non-null    float64\n",
            " 8   liveness          195 non-null    float64\n",
            " 9   valence           195 non-null    float64\n",
            " 10  tempo             195 non-null    float64\n",
            " 11  duration_ms       195 non-null    int64  \n",
            " 12  time_signature    195 non-null    int64  \n",
            " 13  liked             195 non-null    int64  \n",
            "dtypes: float64(9), int64(5)\n",
            "memory usage: 21.5 KB\n"
          ]
        }
      ]
    },
    {
      "cell_type": "code",
      "source": [
        "print(df.shape)"
      ],
      "metadata": {
        "colab": {
          "base_uri": "https://localhost:8080/"
        },
        "id": "9u1BWfoUWKhq",
        "outputId": "e0475466-9833-4493-c680-d1689041ee6a"
      },
      "execution_count": null,
      "outputs": [
        {
          "output_type": "stream",
          "name": "stdout",
          "text": [
            "(195, 14)\n"
          ]
        }
      ]
    },
    {
      "cell_type": "code",
      "source": [
        "df.isnull().sum()"
      ],
      "metadata": {
        "colab": {
          "base_uri": "https://localhost:8080/"
        },
        "id": "K4bHJ2L7XKCj",
        "outputId": "e638dc0c-aa91-4be1-a083-1dd300b36034"
      },
      "execution_count": null,
      "outputs": [
        {
          "output_type": "execute_result",
          "data": {
            "text/plain": [
              "danceability        0\n",
              "energy              0\n",
              "key                 0\n",
              "loudness            0\n",
              "mode                0\n",
              "speechiness         0\n",
              "acousticness        0\n",
              "instrumentalness    0\n",
              "liveness            0\n",
              "valence             0\n",
              "tempo               0\n",
              "duration_ms         0\n",
              "time_signature      0\n",
              "liked               0\n",
              "dtype: int64"
            ]
          },
          "metadata": {},
          "execution_count": 6
        }
      ]
    },
    {
      "cell_type": "code",
      "source": [
        "#remove the missing values with NaNs\n",
        "df=df.dropna(subset=['energy','danceability'])\n",
        "print(df.shape)"
      ],
      "metadata": {
        "colab": {
          "base_uri": "https://localhost:8080/"
        },
        "id": "pgA6YryRXkzr",
        "outputId": "4a09d6c9-d2a3-4a71-9bce-3ff75c8f69c2"
      },
      "execution_count": null,
      "outputs": [
        {
          "output_type": "stream",
          "name": "stdout",
          "text": [
            "(195, 14)\n"
          ]
        }
      ]
    },
    {
      "cell_type": "code",
      "source": [
        "#scatter plot\n",
        "plt.scatter(df['danceability'],df['energy'], c='red', s=2)\n",
        "plt.xlabel(\"danceability\")\n",
        "plt.ylabel(\"Energy\")\n"
      ],
      "metadata": {
        "colab": {
          "base_uri": "https://localhost:8080/",
          "height": 297
        },
        "id": "lg6MXT_mYXO-",
        "outputId": "8ddb4e7d-fb68-44b6-c940-f8dcf1860729"
      },
      "execution_count": null,
      "outputs": [
        {
          "output_type": "execute_result",
          "data": {
            "text/plain": [
              "Text(0, 0.5, 'Energy')"
            ]
          },
          "metadata": {},
          "execution_count": 16
        },
        {
          "output_type": "display_data",
          "data": {
            "text/plain": [
              "<Figure size 432x288 with 1 Axes>"
            ],
            "image/png": "[encoded data removed]"
          },
          "metadata": {
            "needs_background": "light"
          }
        }
      ]
    },
    {
      "cell_type": "code",
      "source": [
        "#For now, we'll try k value 2\n",
        "k=2\n",
        "X=np.array(list(zip(df['danceability'], df['energy'])))\n",
        "model=KMeans(n_clusters=k)\n",
        "kmeans=model.fit(X)\n",
        "labels=model.predict(X)\n",
        "centroids=model.cluster_centers_\n",
        "\n",
        "print(labels)\n",
        "print(centroids)\n"
      ],
      "metadata": {
        "colab": {
          "base_uri": "https://localhost:8080/"
        },
        "id": "xJfz-kECYyZN",
        "outputId": "00f8a801-eb4c-4edc-9cf1-f00f259d530c"
      },
      "execution_count": null,
      "outputs": [
        {
          "output_type": "stream",
          "name": "stdout",
          "text": [
            "[0 0 1 0 0 0 0 0 0 0 0 0 0 0 0 0 0 0 0 0 0 1 0 0 0 0 0 0 0 0 0 0 0 0 0 1 0\n",
            " 0 0 0 0 0 0 0 0 0 0 0 1 0 0 0 0 0 0 0 0 0 1 0 0 0 1 0 0 0 0 0 0 0 0 0 0 0\n",
            " 0 0 0 0 0 0 0 0 0 0 0 0 1 0 0 0 0 0 0 0 0 0 0 0 0 0 0 0 0 0 0 0 0 1 0 0 1\n",
            " 0 0 1 0 0 0 0 0 0 0 0 0 0 0 0 0 0 0 1 0 0 0 0 0 1 0 0 1 0 0 0 1 0 0 0 0 0\n",
            " 0 0 0 0 0 0 0 0 0 0 1 1 0 0 0 0 0 0 0 1 1 0 1 1 0 0 0 0 0 0 0 0 0 0 0 0 0\n",
            " 0 0 0 0 0 1 0 1 0 0]\n",
            "[[0.67889595 0.70831214]\n",
            " [0.3045     0.08891545]]\n"
          ]
        }
      ]
    },
    {
      "cell_type": "code",
      "source": [
        "#Plot the data and centroids on a scatter plot\n",
        "#map the labels to colors\n",
        "\n",
        "c=['m','g','b','r','y','c']\n",
        "colors=[c[i] for i in labels]\n",
        "\n",
        "plt.scatter(df['danceability'], df['energy'], c=colors, s=2)\n",
        "plt.scatter(centroids[:,0], centroids[:,1], marker='*', s=100, c='black')"
      ],
      "metadata": {
        "colab": {
          "base_uri": "https://localhost:8080/",
          "height": 283
        },
        "id": "EjrFUrPlZ2JP",
        "outputId": "f01c784a-ed76-4206-8559-6fc25da939cb"
      },
      "execution_count": null,
      "outputs": [
        {
          "output_type": "execute_result",
          "data": {
            "text/plain": [
              "<matplotlib.collections.PathCollection at 0x7f74cfde9e50>"
            ]
          },
          "metadata": {},
          "execution_count": 18
        },
        {
          "output_type": "display_data",
          "data": {
            "text/plain": [
              "<Figure size 432x288 with 1 Axes>"
            ],
            "image/png": "[encoded data removed]"
          },
          "metadata": {
            "needs_background": "light"
          }
        }
      ]
    },
    {
      "cell_type": "markdown",
      "source": [
        "Based on the danceabilitiy and energy the Spotify playlist will suggest similar songs to the user. "
      ],
      "metadata": {
        "id": "kVxfr_CUavS-"
      }
    },
    {
      "cell_type": "code",
      "source": [
        "#Using the model that you have just trained, \n",
        "#you can use it to predict what cluster for any data pt\n",
        "\n",
        "cluster=model.predict([[35,123]])[0]\n",
        "print(c[cluster])\n"
      ],
      "metadata": {
        "colab": {
          "base_uri": "https://localhost:8080/"
        },
        "id": "3ISTycAXau8n",
        "outputId": "07aae7ab-7683-4eae-fd84-7aaededd57b0"
      },
      "execution_count": null,
      "outputs": [
        {
          "output_type": "stream",
          "name": "stdout",
          "text": [
            "m\n"
          ]
        }
      ]
    },
    {
      "cell_type": "code",
      "source": [
        "#To determine the silhouette coefficient/score\n",
        "\n",
        "from sklearn.metrics import silhouette_score\n",
        "\n",
        "model=KMeans(n_clusters=2)\n",
        "model.fit(X)\n",
        "label=model.predict(X)\n",
        "\n",
        "print(f'silhouette Score (n=2): {silhouette_score(X,label)}')\n",
        "\n",
        "\n",
        "model=KMeans(n_clusters=3)\n",
        "model.fit(X)\n",
        "label=model.predict(X)\n",
        "\n",
        "print(f'silhouette Score (n=3): {silhouette_score(X,label)}')\n",
        "\n",
        "\n",
        "model=KMeans(n_clusters=4)\n",
        "model.fit(X)\n",
        "label=model.predict(X)\n",
        "\n",
        "print(f'silhouette Score (n=4): {silhouette_score(X,label)}')\n"
      ],
      "metadata": {
        "colab": {
          "base_uri": "https://localhost:8080/"
        },
        "id": "15LDoeSAbE3O",
        "outputId": "a7eccf31-c623-4080-b493-81d75cceaf84"
      },
      "execution_count": null,
      "outputs": [
        {
          "output_type": "stream",
          "name": "stdout",
          "text": [
            "silhouette Score (n=2): 0.597988720396511\n",
            "silhouette Score (n=3): 0.5845639657673715\n",
            "silhouette Score (n=4): 0.44872754070390214\n"
          ]
        }
      ]
    },
    {
      "cell_type": "code",
      "source": [
        "k=6\n",
        "X=np.array(list(zip(df['danceability'],df['energy'])))\n",
        "\n",
        "kmeans=KMeans(n_clusters=k)\n",
        "kmeans=kmeans.fit(X)\n",
        "labels=kmeans.predict(X)\n",
        "centroids=kmeans.cluster_centers_\n",
        "\n",
        "#map the labels to colors\n",
        "c=['b','r','y','g','c','m']\n",
        "colors=[c[i] for i in labels]\n",
        "\n",
        "plt.scatter(df['danceability'],df['energy'],c=colors,s=2)\n",
        "plt.scatter(centroids[:,0],centroids[:,1],marker='*',s=100,c='black')\n",
        "\n",
        "print(centroids)\n"
      ],
      "metadata": {
        "colab": {
          "base_uri": "https://localhost:8080/",
          "height": 372
        },
        "id": "M2C1U85PcbLV",
        "outputId": "542bc41c-71dd-4d19-bbc3-f7c4034b15f2"
      },
      "execution_count": null,
      "outputs": [
        {
          "output_type": "stream",
          "name": "stdout",
          "text": [
            "[[0.83722917 0.5935625 ]\n",
            " [0.55870833 0.89366667]\n",
            " [0.2952381  0.07643524]\n",
            " [0.77708696 0.77258696]\n",
            " [0.64594444 0.49802778]\n",
            " [0.2676     0.9741    ]]\n"
          ]
        },
        {
          "output_type": "display_data",
          "data": {
            "text/plain": [
              "<Figure size 432x288 with 1 Axes>"
            ],
            "image/png": "[encoded data removed]"
          },
          "metadata": {
            "needs_background": "light"
          }
        }
      ]
    },
    {
      "cell_type": "markdown",
      "source": [
        "Based on the centoids the Spotify playlist will suggest more songs with similar danceability and energy. This could be used for someone who uses playlists for working out.  "
      ],
      "metadata": {
        "id": "1YmL5zKMa6ES"
      }
    }
  ]
}