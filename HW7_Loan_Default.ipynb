{
  "nbformat": 4,
  "nbformat_minor": 0,
  "metadata": {
    "colab": {
      "provenance": [],
      "authorship_tag": "ABX9TyPzLi9Ba4Qw/0yhRZ4bgrih",
      "include_colab_link": true
    },
    "kernelspec": {
      "name": "python3",
      "display_name": "Python 3"
    },
    "language_info": {
      "name": "python"
    }
  },
  "cells": [
    {
      "cell_type": "markdown",
      "metadata": {
        "id": "view-in-github",
        "colab_type": "text"
      },
      "source": [
        "<a href=\"https://colab.research.google.com/github/Titas23/IS-170-Machine-Learning/blob/6.-K-Nearest-Neighbors/HW7_Loan_Default.ipynb\" target=\"_parent\"><img src=\"https://colab.research.google.com/assets/colab-badge.svg\" alt=\"Open In Colab\"/></a>"
      ]
    },
    {
      "cell_type": "code",
      "execution_count": null,
      "metadata": {
        "id": "siksbvh2yJnu"
      },
      "outputs": [],
      "source": [
        "import pandas as pd\n",
        "import numpy as np\n",
        "from sklearn.preprocessing import OneHotEncoder\n",
        "from sklearn import preprocessing\n",
        "from sklearn.preprocessing import LabelEncoder\n"
      ]
    },
    {
      "cell_type": "code",
      "source": [
        "df = pd.read_csv('Loan_Default.csv')\n",
        "df.head()"
      ],
      "metadata": {
        "colab": {
          "base_uri": "https://localhost:8080/",
          "height": 404
        },
        "id": "nBI1H16byugG",
        "outputId": "37ef77d2-fd89-429b-b73f-c759401185c6"
      },
      "execution_count": null,
      "outputs": [
        {
          "output_type": "execute_result",
          "data": {
            "text/plain": [
              "      ID  year loan_limit             Gender approv_in_adv loan_type  \\\n",
              "0  24890  2019         cf  Sex Not Available         nopre     type1   \n",
              "1  24891  2019         cf               Male         nopre     type2   \n",
              "2  24892  2019         cf               Male           pre     type1   \n",
              "3  24893  2019         cf               Male         nopre     type1   \n",
              "4  24894  2019         cf              Joint           pre     type1   \n",
              "\n",
              "  loan_purpose Credit_Worthiness open_credit business_or_commercial  ...  \\\n",
              "0           p1                l1        nopc                  nob/c  ...   \n",
              "1           p1                l1        nopc                    b/c  ...   \n",
              "2           p1                l1        nopc                  nob/c  ...   \n",
              "3           p4                l1        nopc                  nob/c  ...   \n",
              "4           p1                l1        nopc                  nob/c  ...   \n",
              "\n",
              "   credit_type  Credit_Score  co-applicant_credit_type    age  \\\n",
              "0          EXP         758.0                       CIB  25-34   \n",
              "1         EQUI         552.0                       EXP  55-64   \n",
              "2          EXP         834.0                       CIB  35-44   \n",
              "3          EXP         587.0                       CIB  45-54   \n",
              "4         CRIF         602.0                       EXP  25-34   \n",
              "\n",
              "   submission_of_application        LTV Region Security_Type  Status dtir1  \n",
              "0                    to_inst  98.728814  south        direct     1.0  45.0  \n",
              "1                    to_inst        NaN  North        direct     1.0   NaN  \n",
              "2                    to_inst  80.019685  south        direct     0.0  46.0  \n",
              "3                   not_inst  69.376900  North        direct     0.0  42.0  \n",
              "4                   not_inst  91.886544  North        direct     0.0  39.0  \n",
              "\n",
              "[5 rows x 34 columns]"
            ],
            "text/html": [
              "\n",
              "  <div id=\"df-56075f4a-9601-44b3-be3f-679be8ebb589\">\n",
              "    <div class=\"colab-df-container\">\n",
              "      <div>\n",
              "<style scoped>\n",
              "    .dataframe tbody tr th:only-of-type {\n",
              "        vertical-align: middle;\n",
              "    }\n",
              "\n",
              "    .dataframe tbody tr th {\n",
              "        vertical-align: top;\n",
              "    }\n",
              "\n",
              "    .dataframe thead th {\n",
              "        text-align: right;\n",
              "    }\n",
              "</style>\n",
              "<table border=\"1\" class=\"dataframe\">\n",
              "  <thead>\n",
              "    <tr style=\"text-align: right;\">\n",
              "      <th></th>\n",
              "      <th>ID</th>\n",
              "      <th>year</th>\n",
              "      <th>loan_limit</th>\n",
              "      <th>Gender</th>\n",
              "      <th>approv_in_adv</th>\n",
              "      <th>loan_type</th>\n",
              "      <th>loan_purpose</th>\n",
              "      <th>Credit_Worthiness</th>\n",
              "      <th>open_credit</th>\n",
              "      <th>business_or_commercial</th>\n",
              "      <th>...</th>\n",
              "      <th>credit_type</th>\n",
              "      <th>Credit_Score</th>\n",
              "      <th>co-applicant_credit_type</th>\n",
              "      <th>age</th>\n",
              "      <th>submission_of_application</th>\n",
              "      <th>LTV</th>\n",
              "      <th>Region</th>\n",
              "      <th>Security_Type</th>\n",
              "      <th>Status</th>\n",
              "      <th>dtir1</th>\n",
              "    </tr>\n",
              "  </thead>\n",
              "  <tbody>\n",
              "    <tr>\n",
              "      <th>0</th>\n",
              "      <td>24890</td>\n",
              "      <td>2019</td>\n",
              "      <td>cf</td>\n",
              "      <td>Sex Not Available</td>\n",
              "      <td>nopre</td>\n",
              "      <td>type1</td>\n",
              "      <td>p1</td>\n",
              "      <td>l1</td>\n",
              "      <td>nopc</td>\n",
              "      <td>nob/c</td>\n",
              "      <td>...</td>\n",
              "      <td>EXP</td>\n",
              "      <td>758.0</td>\n",
              "      <td>CIB</td>\n",
              "      <td>25-34</td>\n",
              "      <td>to_inst</td>\n",
              "      <td>98.728814</td>\n",
              "      <td>south</td>\n",
              "      <td>direct</td>\n",
              "      <td>1.0</td>\n",
              "      <td>45.0</td>\n",
              "    </tr>\n",
              "    <tr>\n",
              "      <th>1</th>\n",
              "      <td>24891</td>\n",
              "      <td>2019</td>\n",
              "      <td>cf</td>\n",
              "      <td>Male</td>\n",
              "      <td>nopre</td>\n",
              "      <td>type2</td>\n",
              "      <td>p1</td>\n",
              "      <td>l1</td>\n",
              "      <td>nopc</td>\n",
              "      <td>b/c</td>\n",
              "      <td>...</td>\n",
              "      <td>EQUI</td>\n",
              "      <td>552.0</td>\n",
              "      <td>EXP</td>\n",
              "      <td>55-64</td>\n",
              "      <td>to_inst</td>\n",
              "      <td>NaN</td>\n",
              "      <td>North</td>\n",
              "      <td>direct</td>\n",
              "      <td>1.0</td>\n",
              "      <td>NaN</td>\n",
              "    </tr>\n",
              "    <tr>\n",
              "      <th>2</th>\n",
              "      <td>24892</td>\n",
              "      <td>2019</td>\n",
              "      <td>cf</td>\n",
              "      <td>Male</td>\n",
              "      <td>pre</td>\n",
              "      <td>type1</td>\n",
              "      <td>p1</td>\n",
              "      <td>l1</td>\n",
              "      <td>nopc</td>\n",
              "      <td>nob/c</td>\n",
              "      <td>...</td>\n",
              "      <td>EXP</td>\n",
              "      <td>834.0</td>\n",
              "      <td>CIB</td>\n",
              "      <td>35-44</td>\n",
              "      <td>to_inst</td>\n",
              "      <td>80.019685</td>\n",
              "      <td>south</td>\n",
              "      <td>direct</td>\n",
              "      <td>0.0</td>\n",
              "      <td>46.0</td>\n",
              "    </tr>\n",
              "    <tr>\n",
              "      <th>3</th>\n",
              "      <td>24893</td>\n",
              "      <td>2019</td>\n",
              "      <td>cf</td>\n",
              "      <td>Male</td>\n",
              "      <td>nopre</td>\n",
              "      <td>type1</td>\n",
              "      <td>p4</td>\n",
              "      <td>l1</td>\n",
              "      <td>nopc</td>\n",
              "      <td>nob/c</td>\n",
              "      <td>...</td>\n",
              "      <td>EXP</td>\n",
              "      <td>587.0</td>\n",
              "      <td>CIB</td>\n",
              "      <td>45-54</td>\n",
              "      <td>not_inst</td>\n",
              "      <td>69.376900</td>\n",
              "      <td>North</td>\n",
              "      <td>direct</td>\n",
              "      <td>0.0</td>\n",
              "      <td>42.0</td>\n",
              "    </tr>\n",
              "    <tr>\n",
              "      <th>4</th>\n",
              "      <td>24894</td>\n",
              "      <td>2019</td>\n",
              "      <td>cf</td>\n",
              "      <td>Joint</td>\n",
              "      <td>pre</td>\n",
              "      <td>type1</td>\n",
              "      <td>p1</td>\n",
              "      <td>l1</td>\n",
              "      <td>nopc</td>\n",
              "      <td>nob/c</td>\n",
              "      <td>...</td>\n",
              "      <td>CRIF</td>\n",
              "      <td>602.0</td>\n",
              "      <td>EXP</td>\n",
              "      <td>25-34</td>\n",
              "      <td>not_inst</td>\n",
              "      <td>91.886544</td>\n",
              "      <td>North</td>\n",
              "      <td>direct</td>\n",
              "      <td>0.0</td>\n",
              "      <td>39.0</td>\n",
              "    </tr>\n",
              "  </tbody>\n",
              "</table>\n",
              "<p>5 rows × 34 columns</p>\n",
              "</div>\n",
              "      <button class=\"colab-df-convert\" onclick=\"convertToInteractive('df-56075f4a-9601-44b3-be3f-679be8ebb589')\"\n",
              "              title=\"Convert this dataframe to an interactive table.\"\n",
              "              style=\"display:none;\">\n",
              "        \n",
              "  <svg xmlns=\"http://www.w3.org/2000/svg\" height=\"24px\"viewBox=\"0 0 24 24\"\n",
              "       width=\"24px\">\n",
              "    <path d=\"M0 0h24v24H0V0z\" fill=\"none\"/>\n",
              "    <path d=\"M18.56 5.44l.94 2.06.94-2.06 2.06-.94-2.06-.94-.94-2.06-.94 2.06-2.06.94zm-11 1L8.5 8.5l.94-2.06 2.06-.94-2.06-.94L8.5 2.5l-.94 2.06-2.06.94zm10 10l.94 2.06.94-2.06 2.06-.94-2.06-.94-.94-2.06-.94 2.06-2.06.94z\"/><path d=\"M17.41 7.96l-1.37-1.37c-.4-.4-.92-.59-1.43-.59-.52 0-1.04.2-1.43.59L10.3 9.45l-7.72 7.72c-.78.78-.78 2.05 0 2.83L4 21.41c.39.39.9.59 1.41.59.51 0 1.02-.2 1.41-.59l7.78-7.78 2.81-2.81c.8-.78.8-2.07 0-2.86zM5.41 20L4 18.59l7.72-7.72 1.47 1.35L5.41 20z\"/>\n",
              "  </svg>\n",
              "      </button>\n",
              "      \n",
              "  <style>\n",
              "    .colab-df-container {\n",
              "      display:flex;\n",
              "      flex-wrap:wrap;\n",
              "      gap: 12px;\n",
              "    }\n",
              "\n",
              "    .colab-df-convert {\n",
              "      background-color: #E8F0FE;\n",
              "      border: none;\n",
              "      border-radius: 50%;\n",
              "      cursor: pointer;\n",
              "      display: none;\n",
              "      fill: #1967D2;\n",
              "      height: 32px;\n",
              "      padding: 0 0 0 0;\n",
              "      width: 32px;\n",
              "    }\n",
              "\n",
              "    .colab-df-convert:hover {\n",
              "      background-color: #E2EBFA;\n",
              "      box-shadow: 0px 1px 2px rgba(60, 64, 67, 0.3), 0px 1px 3px 1px rgba(60, 64, 67, 0.15);\n",
              "      fill: #174EA6;\n",
              "    }\n",
              "\n",
              "    [theme=dark] .colab-df-convert {\n",
              "      background-color: #3B4455;\n",
              "      fill: #D2E3FC;\n",
              "    }\n",
              "\n",
              "    [theme=dark] .colab-df-convert:hover {\n",
              "      background-color: #434B5C;\n",
              "      box-shadow: 0px 1px 3px 1px rgba(0, 0, 0, 0.15);\n",
              "      filter: drop-shadow(0px 1px 2px rgba(0, 0, 0, 0.3));\n",
              "      fill: #FFFFFF;\n",
              "    }\n",
              "  </style>\n",
              "\n",
              "      <script>\n",
              "        const buttonEl =\n",
              "          document.querySelector('#df-56075f4a-9601-44b3-be3f-679be8ebb589 button.colab-df-convert');\n",
              "        buttonEl.style.display =\n",
              "          google.colab.kernel.accessAllowed ? 'block' : 'none';\n",
              "\n",
              "        async function convertToInteractive(key) {\n",
              "          const element = document.querySelector('#df-56075f4a-9601-44b3-be3f-679be8ebb589');\n",
              "          const dataTable =\n",
              "            await google.colab.kernel.invokeFunction('convertToInteractive',\n",
              "                                                     [key], {});\n",
              "          if (!dataTable) return;\n",
              "\n",
              "          const docLinkHtml = 'Like what you see? Visit the ' +\n",
              "            '<a target=\"_blank\" href=https://colab.research.google.com/notebooks/data_table.ipynb>data table notebook</a>'\n",
              "            + ' to learn more about interactive tables.';\n",
              "          element.innerHTML = '';\n",
              "          dataTable['output_type'] = 'display_data';\n",
              "          await google.colab.output.renderOutput(dataTable, element);\n",
              "          const docLink = document.createElement('div');\n",
              "          docLink.innerHTML = docLinkHtml;\n",
              "          element.appendChild(docLink);\n",
              "        }\n",
              "      </script>\n",
              "    </div>\n",
              "  </div>\n",
              "  "
            ]
          },
          "metadata": {},
          "execution_count": 4
        }
      ]
    },
    {
      "cell_type": "code",
      "source": [
        "# Take a look at the information\n",
        "df.info()"
      ],
      "metadata": {
        "colab": {
          "base_uri": "https://localhost:8080/"
        },
        "id": "D1KNSG3364wE",
        "outputId": "57edd6b5-412a-42cc-a68b-257cf99d991e"
      },
      "execution_count": null,
      "outputs": [
        {
          "output_type": "stream",
          "name": "stdout",
          "text": [
            "<class 'pandas.core.frame.DataFrame'>\n",
            "RangeIndex: 10976 entries, 0 to 10975\n",
            "Data columns (total 34 columns):\n",
            " #   Column                     Non-Null Count  Dtype  \n",
            "---  ------                     --------------  -----  \n",
            " 0   ID                         10976 non-null  int64  \n",
            " 1   year                       10976 non-null  int64  \n",
            " 2   loan_limit                 10722 non-null  object \n",
            " 3   Gender                     10976 non-null  object \n",
            " 4   approv_in_adv              10908 non-null  object \n",
            " 5   loan_type                  10975 non-null  object \n",
            " 6   loan_purpose               10968 non-null  object \n",
            " 7   Credit_Worthiness          10975 non-null  object \n",
            " 8   open_credit                10975 non-null  object \n",
            " 9   business_or_commercial     10975 non-null  object \n",
            " 10  loan_amount                10975 non-null  float64\n",
            " 11  rate_of_interest           8291 non-null   float64\n",
            " 12  Interest_rate_spread       8276 non-null   float64\n",
            " 13  Upfront_charges            8063 non-null   float64\n",
            " 14  term                       10970 non-null  float64\n",
            " 15  Neg_ammortization          10967 non-null  object \n",
            " 16  interest_only              10975 non-null  object \n",
            " 17  lump_sum_payment           10975 non-null  object \n",
            " 18  property_value             9824 non-null   float64\n",
            " 19  construction_type          10975 non-null  object \n",
            " 20  occupancy_type             10975 non-null  object \n",
            " 21  Secured_by                 10975 non-null  object \n",
            " 22  total_units                10975 non-null  object \n",
            " 23  income                     10319 non-null  float64\n",
            " 24  credit_type                10975 non-null  object \n",
            " 25  Credit_Score               10975 non-null  float64\n",
            " 26  co-applicant_credit_type   10975 non-null  object \n",
            " 27  age                        10960 non-null  object \n",
            " 28  submission_of_application  10960 non-null  object \n",
            " 29  LTV                        9824 non-null   float64\n",
            " 30  Region                     10975 non-null  object \n",
            " 31  Security_Type              10975 non-null  object \n",
            " 32  Status                     10975 non-null  float64\n",
            " 33  dtir1                      9178 non-null   float64\n",
            "dtypes: float64(11), int64(2), object(21)\n",
            "memory usage: 2.8+ MB\n"
          ]
        }
      ]
    },
    {
      "cell_type": "code",
      "source": [
        "# We see what the shape of the csv looks like\n",
        "df.shape"
      ],
      "metadata": {
        "colab": {
          "base_uri": "https://localhost:8080/"
        },
        "id": "WS2Ng_va3BoL",
        "outputId": "4ea2d36a-31b3-4d45-d2e7-9698581abc3e"
      },
      "execution_count": null,
      "outputs": [
        {
          "output_type": "execute_result",
          "data": {
            "text/plain": [
              "(10976, 34)"
            ]
          },
          "metadata": {},
          "execution_count": 6
        }
      ]
    },
    {
      "cell_type": "code",
      "source": [
        "# We want to find out how many missing values there are and sum up the amount of missing values. \n",
        "df.isnull().sum()"
      ],
      "metadata": {
        "colab": {
          "base_uri": "https://localhost:8080/"
        },
        "id": "l37uLAca3Kzq",
        "outputId": "5bc84084-f664-4c26-9b11-fcc04fea6479"
      },
      "execution_count": null,
      "outputs": [
        {
          "output_type": "execute_result",
          "data": {
            "text/plain": [
              "ID                              0\n",
              "year                            0\n",
              "loan_limit                    254\n",
              "Gender                          0\n",
              "approv_in_adv                  68\n",
              "loan_type                       1\n",
              "loan_purpose                    8\n",
              "Credit_Worthiness               1\n",
              "open_credit                     1\n",
              "business_or_commercial          1\n",
              "loan_amount                     1\n",
              "rate_of_interest             2685\n",
              "Interest_rate_spread         2700\n",
              "Upfront_charges              2913\n",
              "term                            6\n",
              "Neg_ammortization               9\n",
              "interest_only                   1\n",
              "lump_sum_payment                1\n",
              "property_value               1152\n",
              "construction_type               1\n",
              "occupancy_type                  1\n",
              "Secured_by                      1\n",
              "total_units                     1\n",
              "income                        657\n",
              "credit_type                     1\n",
              "Credit_Score                    1\n",
              "co-applicant_credit_type        1\n",
              "age                            16\n",
              "submission_of_application      16\n",
              "LTV                          1152\n",
              "Region                          1\n",
              "Security_Type                   1\n",
              "Status                          1\n",
              "dtir1                        1798\n",
              "dtype: int64"
            ]
          },
          "metadata": {},
          "execution_count": 7
        }
      ]
    },
    {
      "cell_type": "code",
      "source": [
        "# We will drop any rows where we have missing values.\n",
        "df=df.dropna(subset=['loan_limit','approv_in_adv','loan_purpose',\n",
        "                     'rate_of_interest','Interest_rate_spread','Upfront_charges',\n",
        "                     'term','Neg_ammortization','property_value','income',\n",
        "                     'age','submission_of_application','LTV','dtir1'])\n",
        "# You will notice that the shape has changed after we drop the missing values.\n",
        "print(df.shape)"
      ],
      "metadata": {
        "id": "tR4nmxeb7FH3"
      },
      "execution_count": null,
      "outputs": []
    },
    {
      "cell_type": "code",
      "source": [
        "# Now we just verify that we are not missing any values.\n",
        "df.isnull().sum()"
      ],
      "metadata": {
        "colab": {
          "base_uri": "https://localhost:8080/"
        },
        "id": "lcROB5mZ8IDN",
        "outputId": "92ffbd1c-cbc4-424f-bc3c-182c87f1c361"
      },
      "execution_count": null,
      "outputs": [
        {
          "output_type": "execute_result",
          "data": {
            "text/plain": [
              "ID                           0\n",
              "year                         0\n",
              "loan_limit                   0\n",
              "Gender                       0\n",
              "approv_in_adv                0\n",
              "loan_type                    0\n",
              "loan_purpose                 0\n",
              "Credit_Worthiness            0\n",
              "open_credit                  0\n",
              "business_or_commercial       0\n",
              "loan_amount                  0\n",
              "rate_of_interest             0\n",
              "Interest_rate_spread         0\n",
              "Upfront_charges              0\n",
              "term                         0\n",
              "Neg_ammortization            0\n",
              "interest_only                0\n",
              "lump_sum_payment             0\n",
              "property_value               0\n",
              "construction_type            0\n",
              "occupancy_type               0\n",
              "Secured_by                   0\n",
              "total_units                  0\n",
              "income                       0\n",
              "credit_type                  0\n",
              "Credit_Score                 0\n",
              "co-applicant_credit_type     0\n",
              "age                          0\n",
              "submission_of_application    0\n",
              "LTV                          0\n",
              "Region                       0\n",
              "Security_Type                0\n",
              "Status                       0\n",
              "dtir1                        0\n",
              "dtype: int64"
            ]
          },
          "metadata": {},
          "execution_count": 9
        }
      ]
    },
    {
      "cell_type": "code",
      "source": [
        "# We will transform any columns where the information is in string value over to digits. \n",
        "le = LabelEncoder()\n",
        "\n",
        "label = le.fit_transform(df['loan_amount'])\n",
        "label_1 = le.fit_transform(df['loan_type'])\n",
        "label_2 = le.fit_transform(df['Credit_Worthiness'])\n",
        "label_3 = le.fit_transform(df['submission_of_application'])\n",
        "label_4 = le.fit_transform(df['Credit_Score'])\n",
        "label_5 = le.fit_transform(df['approv_in_adv'])\n",
        "\n",
        "\n",
        "\n",
        "df.drop('loan_amount', axis=1, inplace=True)\n",
        "df.drop('loan_type', axis=1, inplace=True)\n",
        "df.drop('Credit_Worthiness', axis=1, inplace=True)\n",
        "df.drop('submission_of_application', axis=1, inplace = True)\n",
        "df.drop('Credit_Score', axis=1, inplace = True)\n",
        "df.drop('approv_in_adv', axis=1, inplace = True)\n",
        "\n",
        "\n",
        "\n",
        "df['loan_amount']= label\n",
        "df['loan_type']= label_1\n",
        "df['Credit_Worthiness']= label_2\n",
        "df['submission_of_application']= label_3\n",
        "df['Credit_Score']= label_4\n",
        "df['approv_in_adv']= label_5\n",
        "\n"
      ],
      "metadata": {
        "id": "oylk1NSLDdq3"
      },
      "execution_count": null,
      "outputs": []
    },
    {
      "cell_type": "code",
      "source": [
        "# our x value will measure the following columns\n",
        "X = df[['loan_amount', 'loan_type', 'Credit_Worthiness','submission_of_application', 'Credit_Score','income','rate_of_interest','LTV']].values\n",
        "X"
      ],
      "metadata": {
        "colab": {
          "base_uri": "https://localhost:8080/"
        },
        "id": "5fg1h5T1GAbw",
        "outputId": "8149417a-bb8d-4450-c3c9-c8916b60a704"
      },
      "execution_count": null,
      "outputs": [
        {
          "output_type": "execute_result",
          "data": {
            "text/plain": [
              "array([[3.80000000e+01, 0.00000000e+00, 0.00000000e+00, ...,\n",
              "        9.48000000e+03, 4.56000000e+00, 8.00196850e+01],\n",
              "       [6.70000000e+01, 0.00000000e+00, 0.00000000e+00, ...,\n",
              "        1.04400000e+04, 4.00000000e+00, 9.18865435e+01],\n",
              "       [6.80000000e+01, 0.00000000e+00, 0.00000000e+00, ...,\n",
              "        1.00800000e+04, 3.99000000e+00, 7.00892857e+01],\n",
              "       ...,\n",
              "       [2.70000000e+01, 0.00000000e+00, 0.00000000e+00, ...,\n",
              "        8.16000000e+03, 3.75000000e+00, 7.64175258e+01],\n",
              "       [4.40000000e+01, 0.00000000e+00, 0.00000000e+00, ...,\n",
              "        1.34400000e+04, 4.50000000e+00, 5.50117925e+01],\n",
              "       [1.00000000e+01, 1.00000000e+00, 0.00000000e+00, ...,\n",
              "        3.90000000e+03, 3.99000000e+00, 8.54729730e+01]])"
            ]
          },
          "metadata": {},
          "execution_count": 11
        }
      ]
    },
    {
      "cell_type": "code",
      "source": [
        "# We will transform our values to a float decimal number.\n",
        "X = preprocessing.StandardScaler().fit(X).transform(X.astype(float))\n",
        "X[0:5]"
      ],
      "metadata": {
        "colab": {
          "base_uri": "https://localhost:8080/"
        },
        "id": "KhUPwLN5AjY7",
        "outputId": "da19ac0e-e8a4-4468-a3ac-6f8df79050ff"
      },
      "execution_count": null,
      "outputs": [
        {
          "output_type": "execute_result",
          "data": {
            "text/plain": [
              "array([[ 0.40868446, -0.41074431, -0.19425717,  0.80413425,  1.15506026,\n",
              "         0.32977319,  0.89556688,  0.49424216],\n",
              "       [ 2.10080688, -0.41074431, -0.19425717, -1.24357345, -0.86106791,\n",
              "         0.46822158, -0.14916671,  1.15589451],\n",
              "       [ 2.15915593, -0.41074431, -0.19425717, -1.24357345,  1.41576649,\n",
              "         0.41630343, -0.16782267, -0.05944037],\n",
              "       [ 0.05859016, -0.41074431, -0.19425717,  0.80413425,  1.38100566,\n",
              "        -0.3105506 ,  0.78363114,  0.44349855],\n",
              "       [ 0.23363731, -0.41074431, -0.19425717,  0.80413425, -1.05225247,\n",
              "        -0.23267339,  1.48322953,  0.42432403]])"
            ]
          },
          "metadata": {},
          "execution_count": 12
        }
      ]
    },
    {
      "cell_type": "code",
      "source": [
        "# Our Y value will measure if the candidates were approved in advance. \n",
        "y = df['approv_in_adv'].values\n",
        "y [0:5]\n"
      ],
      "metadata": {
        "colab": {
          "base_uri": "https://localhost:8080/"
        },
        "id": "5H440ahpGsCE",
        "outputId": "9b5980b4-d9a3-47e2-b5d3-4e4462e3e0d9"
      },
      "execution_count": null,
      "outputs": [
        {
          "output_type": "execute_result",
          "data": {
            "text/plain": [
              "array([1, 1, 1, 1, 0])"
            ]
          },
          "metadata": {},
          "execution_count": 13
        }
      ]
    },
    {
      "cell_type": "code",
      "source": [
        "# We will setup our training and testing for the model. \n",
        "from sklearn.model_selection import train_test_split\n",
        "X_train, X_test, y_train, y_test = train_test_split( X, y, test_size=0.35)\n",
        "print ('Train set:', X_train.shape,  y_train.shape)\n",
        "print ('Test set:', X_test.shape,  y_test.shape)\n"
      ],
      "metadata": {
        "colab": {
          "base_uri": "https://localhost:8080/"
        },
        "id": "YL4iMw0M-I3H",
        "outputId": "9ba85a70-ec6c-421a-f801-1b3e0753b1f0"
      },
      "execution_count": null,
      "outputs": [
        {
          "output_type": "stream",
          "name": "stdout",
          "text": [
            "Train set: (4719, 8) (4719,)\n",
            "Test set: (2541, 8) (2541,)\n"
          ]
        }
      ]
    },
    {
      "cell_type": "code",
      "source": [
        "#Generating a model with K=5\n",
        "#Import k-nearest neighbors classifier model\n",
        "from sklearn.neighbors import KNeighborsClassifier\n",
        "\n",
        "#Create KNN Classifier\n",
        "knn=KNeighborsClassifier(n_neighbors=9)\n",
        "\n",
        "#Train the model using the training sets\n",
        "knn.fit(X_train,y_train)\n",
        "\n",
        "#Predict the response for test dataset\n",
        "y_pred=knn.predict(X_test)"
      ],
      "metadata": {
        "id": "4TW6g0S0G77F"
      },
      "execution_count": null,
      "outputs": []
    },
    {
      "cell_type": "code",
      "source": [
        "#Import scikit-learn metrics module for accuracy calculation\n",
        "from sklearn import metrics\n",
        "\n",
        "#Model accuracy, how often is the classifier correct?\n",
        "print(\"Accuracy:\", metrics.accuracy_score(y_test, y_pred))\n",
        "\n"
      ],
      "metadata": {
        "colab": {
          "base_uri": "https://localhost:8080/"
        },
        "id": "B2PBtSltHBLg",
        "outputId": "a0be8aca-7f38-454c-f1eb-3780c94f0253"
      },
      "execution_count": null,
      "outputs": [
        {
          "output_type": "stream",
          "name": "stdout",
          "text": [
            "Accuracy: 0.8421881149153877\n"
          ]
        }
      ]
    },
    {
      "cell_type": "markdown",
      "source": [
        "From the result above, the classification rate is about 82%. Based on the results we have a chance that 82% of the candidates will not default on their home loan, however there is an 18% chance of the candidates that are at risk of defaulting on their home loan. "
      ],
      "metadata": {
        "id": "mdKl3mriHxmq"
      }
    }
  ]
}